{
 "cells": [
  {
   "cell_type": "code",
   "execution_count": 5,
   "metadata": {},
   "outputs": [
    {
     "name": "stdout",
     "output_type": "stream",
     "text": [
      "Requirement already satisfied: kssdtree in /home/portatilcnsg/Desktop/JoRepos/.venv/lib/python3.12/site-packages (2.0.4)\n",
      "Requirement already satisfied: pyqt5 in /home/portatilcnsg/Desktop/JoRepos/.venv/lib/python3.12/site-packages (from kssdtree) (5.15.11)\n",
      "Requirement already satisfied: ete3 in /home/portatilcnsg/Desktop/JoRepos/.venv/lib/python3.12/site-packages (from kssdtree) (3.1.3)\n",
      "Requirement already satisfied: requests in /home/portatilcnsg/Desktop/JoRepos/.venv/lib/python3.12/site-packages (from kssdtree) (2.32.3)\n",
      "Requirement already satisfied: pandas in /home/portatilcnsg/Desktop/JoRepos/.venv/lib/python3.12/site-packages (from kssdtree) (2.2.3)\n",
      "Requirement already satisfied: numpy>=1.26.0 in /home/portatilcnsg/Desktop/JoRepos/.venv/lib/python3.12/site-packages (from pandas->kssdtree) (2.1.3)\n",
      "Requirement already satisfied: python-dateutil>=2.8.2 in /home/portatilcnsg/Desktop/JoRepos/.venv/lib/python3.12/site-packages (from pandas->kssdtree) (2.9.0.post0)\n",
      "Requirement already satisfied: pytz>=2020.1 in /home/portatilcnsg/Desktop/JoRepos/.venv/lib/python3.12/site-packages (from pandas->kssdtree) (2024.2)\n",
      "Requirement already satisfied: tzdata>=2022.7 in /home/portatilcnsg/Desktop/JoRepos/.venv/lib/python3.12/site-packages (from pandas->kssdtree) (2024.2)\n",
      "Requirement already satisfied: PyQt5-sip<13,>=12.15 in /home/portatilcnsg/Desktop/JoRepos/.venv/lib/python3.12/site-packages (from pyqt5->kssdtree) (12.15.0)\n",
      "Requirement already satisfied: PyQt5-Qt5<5.16.0,>=5.15.2 in /home/portatilcnsg/Desktop/JoRepos/.venv/lib/python3.12/site-packages (from pyqt5->kssdtree) (5.15.15)\n",
      "Requirement already satisfied: charset-normalizer<4,>=2 in /home/portatilcnsg/Desktop/JoRepos/.venv/lib/python3.12/site-packages (from requests->kssdtree) (3.4.0)\n",
      "Requirement already satisfied: idna<4,>=2.5 in /home/portatilcnsg/Desktop/JoRepos/.venv/lib/python3.12/site-packages (from requests->kssdtree) (3.10)\n",
      "Requirement already satisfied: urllib3<3,>=1.21.1 in /home/portatilcnsg/Desktop/JoRepos/.venv/lib/python3.12/site-packages (from requests->kssdtree) (2.2.3)\n",
      "Requirement already satisfied: certifi>=2017.4.17 in /home/portatilcnsg/Desktop/JoRepos/.venv/lib/python3.12/site-packages (from requests->kssdtree) (2024.8.30)\n",
      "Requirement already satisfied: six>=1.5 in /home/portatilcnsg/Desktop/JoRepos/.venv/lib/python3.12/site-packages (from python-dateutil>=2.8.2->pandas->kssdtree) (1.16.0)\n"
     ]
    }
   ],
   "source": [
    "!pip install kssdtree"
   ]
  },
  {
   "cell_type": "code",
   "execution_count": 6,
   "metadata": {},
   "outputs": [],
   "source": [
    "import kssdtree"
   ]
  },
  {
   "cell_type": "code",
   "execution_count": null,
   "metadata": {},
   "outputs": [
    {
     "ename": "",
     "evalue": "",
     "output_type": "error",
     "traceback": [
      "\u001b[1;31mThe Kernel crashed while executing code in the current cell or a previous cell. \n",
      "\u001b[1;31mPlease review the code in the cell(s) to identify a possible cause of the failure. \n",
      "\u001b[1;31mClick <a href='https://aka.ms/vscodeJupyterKernelCrash'>here</a> for more info. \n",
      "\u001b[1;31mView Jupyter <a href='command:jupyter.viewOutput'>log</a> for further details."
     ]
    }
   ],
   "source": [
    "genomic_dir = \"../../../GENOMIC10\"\n",
    "threshold = \"99\"\n",
    "shuf_file = \"L3K10\"\n",
    "sketch_dir = genomic_dir +\"_kssd_sketch\"\n",
    "phylip_file = \"t\" + threshold + \".phy\"\n",
    "newick_file = \"t_\" + threshold + \".nwk\"\n",
    "kssdtree.shuffle(k=10, l=3, s=6, o=shuf_file)"
   ]
  },
  {
   "cell_type": "code",
   "execution_count": null,
   "metadata": {},
   "outputs": [
    {
     "name": "stdout",
     "output_type": "stream",
     "text": [
      "Step1...\n",
      "Sketching...\n",
      "rand_id=1710592639\thalf_ctx_len=10\thashsize=33554393\thashlimit=20132635\n",
      "decomposing ../../../GENOMIC10/GCA_000384175_Streptomyces-purpureus_KA281.fna\n",
      "decomposing ../../../GENOMIC10/GCA_000718165_Streptomyces-fulvoviolaceus_NRRL-B-2870.fna\n",
      "decomposing ../../../GENOMIC10/GCA_000158875_Streptomyces-sp_AA4.fna\n",
      "decomposing ../../../GENOMIC10/GCA_000719335_Streptomyces-sp_NRRL-S-87.fna\n",
      "decomposing ../../../GENOMIC10/GCA_000213055_Streptomyces-sp_Tu6071.fna\n",
      "decomposing ../../../GENOMIC10/GCA_000719775_Streptomyces-sp_NRRL-F-5135.fna\n",
      "decomposing ../../../GENOMIC10/GCA_000719135_Streptomyces-avicenniae_NRRL-B-24776.fna\n",
      "decomposing ../../../GENOMIC10/GCA_000373625_Streptomyces-sp_LaPpAH-108.fna\n",
      "Warning: write mco file to an exists outdir:protma899_sketch_1732641980\n",
      "Sketch spend time：10.54s\n",
      "Sketch finished!\n",
      "Step2...\n",
      "Disting...\n",
      "Dist spend time：0.41s\n",
      "Dist finished!\n",
      "Step3...\n",
      "Building...\n",
      "disf_sz=256\trefnum=8\tqrynum=8\tnum_mapping_distf=0\tbatch_qrynum=8\t256\t0\n",
      "create matrix runtime: 0.000303s\n",
      "p=8\n",
      "Build spend time：0.01s\n",
      "Build finished!\n",
      "Step4...\n",
      "Tree visualization finished!\n"
     ]
    },
    {
     "name": "stderr",
     "output_type": "stream",
     "text": [
      "# Total time used loading matrix: 0.00 s.\n",
      "# Total time used Constructing tree: 0.01 s.\n"
     ]
    }
   ],
   "source": [
    "kssdtree.quick(shuf_file=shuf_file+\".shuf\",genome_files=genomic_dir,output=newick_file,method=\"dnj\", mode=\"r\")"
   ]
  }
 ],
 "metadata": {
  "kernelspec": {
   "display_name": ".venv",
   "language": "python",
   "name": "python3"
  },
  "language_info": {
   "codemirror_mode": {
    "name": "ipython",
    "version": 3
   },
   "file_extension": ".py",
   "mimetype": "text/x-python",
   "name": "python",
   "nbconvert_exporter": "python",
   "pygments_lexer": "ipython3",
   "version": "3.12.4"
  }
 },
 "nbformat": 4,
 "nbformat_minor": 2
}
